{
 "cells": [
  {
   "cell_type": "markdown",
   "metadata": {},
   "source": [
    "# Quantum Synthetic Portfolio Optimization \n"
   ]
  },
  {
   "cell_type": "markdown",
   "metadata": {},
   "source": [
    "In this notebook, we aim to replicate the problem described in the context of portfolio optimization, where the objective is to minimize a quadratic function subject to linear constraints. Specifically, the optimization problem can be expressed as follows:\n",
    "$$\n",
    "\\min \\mathbf{x}^T \\Sigma \\mathbf{x} \\tag{1}\n",
    "$$\n",
    "\n",
    "subject to\n",
    "$$\n",
    "\\sum_{i=1}^{N} x_i = n \\tag{2}\n",
    "$$\n",
    "and to\n",
    "$$\n",
    "\\mu^T \\mathbf{x} \\geq R^* \\tag{3}\n",
    "$$\n",
    "\n",
    "The goal is to transform this problem into a form suitable for quantum optimization, specifically as a Quadratic Unconstrained Binary Optimization (QUBO) problem, which is compatible with D-Wave’s quantum annealer. To handle the constraints, the penalty method is employed, allowing them to be incorporated into the objective function. The transformed problem is as follows:\n",
    "$$\n",
    "\\min \\left( \\lambda_0 \\mathbf{x}^T \\Sigma \\mathbf{x} + \\lambda_1 \\left( \\sum_{i=1}^{N} x_i - n \\right)^2 + \\lambda_2 \\left( \\mu^T \\mathbf{x} - R^* - \\sum_{k=1}^{K} 2k y_k \\right)^2 \\right) \\tag{4}\n",
    "$$\n",
    "By following the steps outlined in this notebook, the reader can replicate this optimization process and explore the implementation details using quantum annealing. Before diving into the code, please make sure to follow the required installation steps to set up the environment for solving this problem."
   ]
  },
  {
   "cell_type": "code",
   "execution_count": null,
   "metadata": {},
   "outputs": [
    {
     "name": "stdout",
     "output_type": "stream",
     "text": [
      "Requirement already satisfied: qiskit==1.0.1 in c:\\users\\pablo\\appdata\\local\\packages\\pythonsoftwarefoundation.python.3.11_qbz5n2kfra8p0\\localcache\\local-packages\\python311\\site-packages (from -r requirements.txt (line 1)) (1.0.1)\n",
      "Requirement already satisfied: qiskit_finance==0.4.1 in c:\\users\\pablo\\appdata\\local\\packages\\pythonsoftwarefoundation.python.3.11_qbz5n2kfra8p0\\localcache\\local-packages\\python311\\site-packages (from -r requirements.txt (line 2)) (0.4.1)\n",
      "Requirement already satisfied: qiskit_aer==0.13.3 in c:\\users\\pablo\\appdata\\local\\packages\\pythonsoftwarefoundation.python.3.11_qbz5n2kfra8p0\\localcache\\local-packages\\python311\\site-packages (from -r requirements.txt (line 3)) (0.13.3)\n",
      "Requirement already satisfied: qiskit_algorithms==0.3.0 in c:\\users\\pablo\\appdata\\local\\packages\\pythonsoftwarefoundation.python.3.11_qbz5n2kfra8p0\\localcache\\local-packages\\python311\\site-packages (from -r requirements.txt (line 4)) (0.3.0)\n",
      "Requirement already satisfied: qiskit_optimization==0.6.1 in c:\\users\\pablo\\appdata\\local\\packages\\pythonsoftwarefoundation.python.3.11_qbz5n2kfra8p0\\localcache\\local-packages\\python311\\site-packages (from -r requirements.txt (line 5)) (0.6.1)\n",
      "Requirement already satisfied: matplotlib in c:\\users\\pablo\\appdata\\local\\packages\\pythonsoftwarefoundation.python.3.11_qbz5n2kfra8p0\\localcache\\local-packages\\python311\\site-packages (from -r requirements.txt (line 6)) (3.10.1)\n",
      "Requirement already satisfied: numpy in c:\\users\\pablo\\appdata\\local\\packages\\pythonsoftwarefoundation.python.3.11_qbz5n2kfra8p0\\localcache\\local-packages\\python311\\site-packages (from -r requirements.txt (line 7)) (1.26.4)\n",
      "Requirement already satisfied: pandas in c:\\users\\pablo\\appdata\\local\\packages\\pythonsoftwarefoundation.python.3.11_qbz5n2kfra8p0\\localcache\\local-packages\\python311\\site-packages (from -r requirements.txt (line 8)) (2.2.3)\n",
      "Requirement already satisfied: rustworkx>=0.14.0 in c:\\users\\pablo\\appdata\\local\\packages\\pythonsoftwarefoundation.python.3.11_qbz5n2kfra8p0\\localcache\\local-packages\\python311\\site-packages (from qiskit==1.0.1->-r requirements.txt (line 1)) (0.16.0)\n",
      "Requirement already satisfied: scipy>=1.5 in c:\\users\\pablo\\appdata\\local\\packages\\pythonsoftwarefoundation.python.3.11_qbz5n2kfra8p0\\localcache\\local-packages\\python311\\site-packages (from qiskit==1.0.1->-r requirements.txt (line 1)) (1.15.2)\n",
      "Requirement already satisfied: sympy>=1.3 in c:\\users\\pablo\\appdata\\local\\packages\\pythonsoftwarefoundation.python.3.11_qbz5n2kfra8p0\\localcache\\local-packages\\python311\\site-packages (from qiskit==1.0.1->-r requirements.txt (line 1)) (1.13.3)\n",
      "Requirement already satisfied: dill>=0.3 in c:\\users\\pablo\\appdata\\local\\packages\\pythonsoftwarefoundation.python.3.11_qbz5n2kfra8p0\\localcache\\local-packages\\python311\\site-packages (from qiskit==1.0.1->-r requirements.txt (line 1)) (0.3.9)\n",
      "Requirement already satisfied: python-dateutil>=2.8.0 in c:\\users\\pablo\\appdata\\local\\packages\\pythonsoftwarefoundation.python.3.11_qbz5n2kfra8p0\\localcache\\local-packages\\python311\\site-packages (from qiskit==1.0.1->-r requirements.txt (line 1)) (2.9.0.post0)\n",
      "Requirement already satisfied: stevedore>=3.0.0 in c:\\users\\pablo\\appdata\\local\\packages\\pythonsoftwarefoundation.python.3.11_qbz5n2kfra8p0\\localcache\\local-packages\\python311\\site-packages (from qiskit==1.0.1->-r requirements.txt (line 1)) (5.4.1)\n",
      "Requirement already satisfied: typing-extensions in c:\\users\\pablo\\appdata\\local\\packages\\pythonsoftwarefoundation.python.3.11_qbz5n2kfra8p0\\localcache\\local-packages\\python311\\site-packages (from qiskit==1.0.1->-r requirements.txt (line 1)) (4.13.1)\n",
      "Requirement already satisfied: symengine>=0.11 in c:\\users\\pablo\\appdata\\local\\packages\\pythonsoftwarefoundation.python.3.11_qbz5n2kfra8p0\\localcache\\local-packages\\python311\\site-packages (from qiskit==1.0.1->-r requirements.txt (line 1)) (0.13.0)\n",
      "Requirement already satisfied: psutil>=5 in c:\\users\\pablo\\appdata\\local\\packages\\pythonsoftwarefoundation.python.3.11_qbz5n2kfra8p0\\localcache\\local-packages\\python311\\site-packages (from qiskit_finance==0.4.1->-r requirements.txt (line 2)) (7.0.0)\n",
      "Requirement already satisfied: fastdtw in c:\\users\\pablo\\appdata\\local\\packages\\pythonsoftwarefoundation.python.3.11_qbz5n2kfra8p0\\localcache\\local-packages\\python311\\site-packages (from qiskit_finance==0.4.1->-r requirements.txt (line 2)) (0.3.4)\n",
      "Requirement already satisfied: setuptools>=40.1.0 in c:\\program files\\windowsapps\\pythonsoftwarefoundation.python.3.11_3.11.2544.0_x64__qbz5n2kfra8p0\\lib\\site-packages (from qiskit_finance==0.4.1->-r requirements.txt (line 2)) (65.5.0)\n",
      "Requirement already satisfied: nasdaq-data-link in c:\\users\\pablo\\appdata\\local\\packages\\pythonsoftwarefoundation.python.3.11_qbz5n2kfra8p0\\localcache\\local-packages\\python311\\site-packages (from qiskit_finance==0.4.1->-r requirements.txt (line 2)) (1.0.4)\n",
      "Requirement already satisfied: yfinance>=0.1.70 in c:\\users\\pablo\\appdata\\local\\packages\\pythonsoftwarefoundation.python.3.11_qbz5n2kfra8p0\\localcache\\local-packages\\python311\\site-packages (from qiskit_finance==0.4.1->-r requirements.txt (line 2)) (0.2.55)\n",
      "Requirement already satisfied: certifi in c:\\users\\pablo\\appdata\\local\\packages\\pythonsoftwarefoundation.python.3.11_qbz5n2kfra8p0\\localcache\\local-packages\\python311\\site-packages (from qiskit_finance==0.4.1->-r requirements.txt (line 2)) (2025.1.31)\n",
      "Requirement already satisfied: urllib3 in c:\\users\\pablo\\appdata\\local\\packages\\pythonsoftwarefoundation.python.3.11_qbz5n2kfra8p0\\localcache\\local-packages\\python311\\site-packages (from qiskit_finance==0.4.1->-r requirements.txt (line 2)) (2.3.0)\n",
      "Requirement already satisfied: docplex!=2.24.231,>=2.21.207 in c:\\users\\pablo\\appdata\\local\\packages\\pythonsoftwarefoundation.python.3.11_qbz5n2kfra8p0\\localcache\\local-packages\\python311\\site-packages (from qiskit_optimization==0.6.1->-r requirements.txt (line 5)) (2.29.241)\n",
      "Requirement already satisfied: networkx>=2.6.3 in c:\\users\\pablo\\appdata\\local\\packages\\pythonsoftwarefoundation.python.3.11_qbz5n2kfra8p0\\localcache\\local-packages\\python311\\site-packages (from qiskit_optimization==0.6.1->-r requirements.txt (line 5)) (3.4.2)\n",
      "Requirement already satisfied: contourpy>=1.0.1 in c:\\users\\pablo\\appdata\\local\\packages\\pythonsoftwarefoundation.python.3.11_qbz5n2kfra8p0\\localcache\\local-packages\\python311\\site-packages (from matplotlib->-r requirements.txt (line 6)) (1.3.1)\n",
      "Requirement already satisfied: cycler>=0.10 in c:\\users\\pablo\\appdata\\local\\packages\\pythonsoftwarefoundation.python.3.11_qbz5n2kfra8p0\\localcache\\local-packages\\python311\\site-packages (from matplotlib->-r requirements.txt (line 6)) (0.12.1)\n",
      "Requirement already satisfied: fonttools>=4.22.0 in c:\\users\\pablo\\appdata\\local\\packages\\pythonsoftwarefoundation.python.3.11_qbz5n2kfra8p0\\localcache\\local-packages\\python311\\site-packages (from matplotlib->-r requirements.txt (line 6)) (4.57.0)\n",
      "Requirement already satisfied: kiwisolver>=1.3.1 in c:\\users\\pablo\\appdata\\local\\packages\\pythonsoftwarefoundation.python.3.11_qbz5n2kfra8p0\\localcache\\local-packages\\python311\\site-packages (from matplotlib->-r requirements.txt (line 6)) (1.4.8)\n",
      "Requirement already satisfied: packaging>=20.0 in c:\\users\\pablo\\appdata\\local\\packages\\pythonsoftwarefoundation.python.3.11_qbz5n2kfra8p0\\localcache\\local-packages\\python311\\site-packages (from matplotlib->-r requirements.txt (line 6)) (24.2)\n",
      "Requirement already satisfied: pillow>=8 in c:\\users\\pablo\\appdata\\local\\packages\\pythonsoftwarefoundation.python.3.11_qbz5n2kfra8p0\\localcache\\local-packages\\python311\\site-packages (from matplotlib->-r requirements.txt (line 6)) (11.1.0)\n",
      "Requirement already satisfied: pyparsing>=2.3.1 in c:\\users\\pablo\\appdata\\local\\packages\\pythonsoftwarefoundation.python.3.11_qbz5n2kfra8p0\\localcache\\local-packages\\python311\\site-packages (from matplotlib->-r requirements.txt (line 6)) (3.2.3)\n",
      "Requirement already satisfied: pytz>=2020.1 in c:\\users\\pablo\\appdata\\local\\packages\\pythonsoftwarefoundation.python.3.11_qbz5n2kfra8p0\\localcache\\local-packages\\python311\\site-packages (from pandas->-r requirements.txt (line 8)) (2025.2)\n",
      "Requirement already satisfied: tzdata>=2022.7 in c:\\users\\pablo\\appdata\\local\\packages\\pythonsoftwarefoundation.python.3.11_qbz5n2kfra8p0\\localcache\\local-packages\\python311\\site-packages (from pandas->-r requirements.txt (line 8)) (2025.2)\n",
      "Requirement already satisfied: six in c:\\users\\pablo\\appdata\\local\\packages\\pythonsoftwarefoundation.python.3.11_qbz5n2kfra8p0\\localcache\\local-packages\\python311\\site-packages (from docplex!=2.24.231,>=2.21.207->qiskit_optimization==0.6.1->-r requirements.txt (line 5)) (1.17.0)\n",
      "Requirement already satisfied: pbr>=2.0.0 in c:\\users\\pablo\\appdata\\local\\packages\\pythonsoftwarefoundation.python.3.11_qbz5n2kfra8p0\\localcache\\local-packages\\python311\\site-packages (from stevedore>=3.0.0->qiskit==1.0.1->-r requirements.txt (line 1)) (6.1.1)\n",
      "Requirement already satisfied: mpmath<1.4,>=1.1.0 in c:\\users\\pablo\\appdata\\local\\packages\\pythonsoftwarefoundation.python.3.11_qbz5n2kfra8p0\\localcache\\local-packages\\python311\\site-packages (from sympy>=1.3->qiskit==1.0.1->-r requirements.txt (line 1)) (1.3.0)\n",
      "Requirement already satisfied: requests>=2.31 in c:\\users\\pablo\\appdata\\local\\packages\\pythonsoftwarefoundation.python.3.11_qbz5n2kfra8p0\\localcache\\local-packages\\python311\\site-packages (from yfinance>=0.1.70->qiskit_finance==0.4.1->-r requirements.txt (line 2)) (2.32.3)\n",
      "Requirement already satisfied: multitasking>=0.0.7 in c:\\users\\pablo\\appdata\\local\\packages\\pythonsoftwarefoundation.python.3.11_qbz5n2kfra8p0\\localcache\\local-packages\\python311\\site-packages (from yfinance>=0.1.70->qiskit_finance==0.4.1->-r requirements.txt (line 2)) (0.0.11)\n",
      "Requirement already satisfied: platformdirs>=2.0.0 in c:\\users\\pablo\\appdata\\local\\packages\\pythonsoftwarefoundation.python.3.11_qbz5n2kfra8p0\\localcache\\local-packages\\python311\\site-packages (from yfinance>=0.1.70->qiskit_finance==0.4.1->-r requirements.txt (line 2)) (4.3.7)\n",
      "Requirement already satisfied: frozendict>=2.3.4 in c:\\users\\pablo\\appdata\\local\\packages\\pythonsoftwarefoundation.python.3.11_qbz5n2kfra8p0\\localcache\\local-packages\\python311\\site-packages (from yfinance>=0.1.70->qiskit_finance==0.4.1->-r requirements.txt (line 2)) (2.4.6)\n",
      "Requirement already satisfied: peewee>=3.16.2 in c:\\users\\pablo\\appdata\\local\\packages\\pythonsoftwarefoundation.python.3.11_qbz5n2kfra8p0\\localcache\\local-packages\\python311\\site-packages (from yfinance>=0.1.70->qiskit_finance==0.4.1->-r requirements.txt (line 2)) (3.17.9)\n",
      "Requirement already satisfied: beautifulsoup4>=4.11.1 in c:\\users\\pablo\\appdata\\local\\packages\\pythonsoftwarefoundation.python.3.11_qbz5n2kfra8p0\\localcache\\local-packages\\python311\\site-packages (from yfinance>=0.1.70->qiskit_finance==0.4.1->-r requirements.txt (line 2)) (4.13.3)\n",
      "Requirement already satisfied: inflection>=0.3.1 in c:\\users\\pablo\\appdata\\local\\packages\\pythonsoftwarefoundation.python.3.11_qbz5n2kfra8p0\\localcache\\local-packages\\python311\\site-packages (from nasdaq-data-link->qiskit_finance==0.4.1->-r requirements.txt (line 2)) (0.5.1)\n",
      "Requirement already satisfied: more-itertools in c:\\users\\pablo\\appdata\\local\\packages\\pythonsoftwarefoundation.python.3.11_qbz5n2kfra8p0\\localcache\\local-packages\\python311\\site-packages (from nasdaq-data-link->qiskit_finance==0.4.1->-r requirements.txt (line 2)) (10.6.0)\n",
      "Requirement already satisfied: soupsieve>1.2 in c:\\users\\pablo\\appdata\\local\\packages\\pythonsoftwarefoundation.python.3.11_qbz5n2kfra8p0\\localcache\\local-packages\\python311\\site-packages (from beautifulsoup4>=4.11.1->yfinance>=0.1.70->qiskit_finance==0.4.1->-r requirements.txt (line 2)) (2.6)\n",
      "Requirement already satisfied: charset-normalizer<4,>=2 in c:\\users\\pablo\\appdata\\local\\packages\\pythonsoftwarefoundation.python.3.11_qbz5n2kfra8p0\\localcache\\local-packages\\python311\\site-packages (from requests>=2.31->yfinance>=0.1.70->qiskit_finance==0.4.1->-r requirements.txt (line 2)) (3.4.1)\n",
      "Requirement already satisfied: idna<4,>=2.5 in c:\\users\\pablo\\appdata\\local\\packages\\pythonsoftwarefoundation.python.3.11_qbz5n2kfra8p0\\localcache\\local-packages\\python311\\site-packages (from requests>=2.31->yfinance>=0.1.70->qiskit_finance==0.4.1->-r requirements.txt (line 2)) (3.10)\n"
     ]
    }
   ],
   "source": [
    "! pip install -r requirements.txt"
   ]
  },
  {
   "cell_type": "markdown",
   "metadata": {},
   "source": [
    "## Packages installation"
   ]
  },
  {
   "cell_type": "code",
   "execution_count": 15,
   "metadata": {},
   "outputs": [],
   "source": [
    "from qiskit.circuit.library import TwoLocal\n",
    "from qiskit.result import QuasiDistribution\n",
    "from qiskit_aer.primitives import Sampler\n",
    "from qiskit_algorithms import NumPyMinimumEigensolver, QAOA, SamplingVQE\n",
    "from qiskit_algorithms.optimizers import COBYLA\n",
    "from qiskit_finance.applications.optimization import PortfolioOptimization\n",
    "from qiskit_finance.data_providers import RandomDataProvider\n",
    "from qiskit_optimization.algorithms import MinimumEigenOptimizer\n",
    "from qiskit_optimization.problems import QuadraticProgram\n",
    "import numpy as np\n",
    "import matplotlib.pyplot as plt\n",
    "import datetime"
   ]
  },
  {
   "cell_type": "markdown",
   "metadata": {},
   "source": [
    "## Synthetic asset creation"
   ]
  },
  {
   "cell_type": "markdown",
   "metadata": {},
   "source": [
    "In the following code, the goal is to perform the setup for portfolio optimization by defining the number of assets, generating random financial data, and plotting the covariance matrix.\n",
    "\n",
    "1. **Set the Number of Assets and Seed for Randomization**\n",
    "   - `num_assets = 4`: This defines the number of assets (which corresponds to the number of qubits in a quantum portfolio optimization problem).\n",
    "   - `seed = 123`: This sets a random seed to ensure reproducibility of the generated data.\n",
    "\n",
    "2. **Generate Random Time-Series Data**\n",
    "   - A list of asset tickers (e.g., `TICKER0`, `TICKER1`, ..., `TICKER14`) is created for the `num_assets` defined earlier.\n",
    "   - The `RandomDataProvider` class is used to generate synthetic financial data for these assets over the period from January 1, 2016, to January 30, 2016. This class provides both the expected return and the covariance matrix for the given time period.\n",
    "   - The `seed` ensures that the random data is consistent across runs.\n",
    "\n",
    "3. **Compute Expected Return and Covariance Matrix**\n",
    "   - `mu = data.get_period_return_mean_vector()`: This extracts the mean return vector (`mu`) for each asset over the given time period.\n",
    "   - `sigma = data.get_period_return_covariance_matrix()`: This generates the covariance matrix (`sigma`), which represents the variance and covariances between the returns of different assets.\n",
    "\n",
    "4. **Plot the Covariance Matrix**\n",
    "   - Using `matplotlib`, a heatmap of the covariance matrix is plotted. The `viridis` color map is used to represent the values, with a color bar added for reference. The plot shows the correlations between the assets' returns, giving insight into how they interact with each other.\n",
    "   - The `plt.tight_layout()` ensures that the plot is neatly adjusted without overlapping labels or axes.\n",
    "\n",
    "The final output is a visualization of how the assets' returns are correlated, which is crucial for building the portfolio optimization model.\n"
   ]
  },
  {
   "cell_type": "code",
   "execution_count": 16,
   "metadata": {},
   "outputs": [
    {
     "data": {
      "image/png": "[encoded data removed]",
      "text/plain": [
       "<Figure size 800x600 with 2 Axes>"
      ]
     },
     "metadata": {},
     "output_type": "display_data"
    }
   ],
   "source": [
    "# Set number of assets (= number of qubits)\n",
    "num_assets = 4\n",
    "seed = 123\n",
    "\n",
    "# Generate expected return and covariance matrix from (random) time-series\n",
    "stocks = [(\"TICKER%s\" % i) for i in range(num_assets)]\n",
    "data = RandomDataProvider(\n",
    "    tickers=stocks,\n",
    "    start=datetime.datetime(2016, 1, 1),\n",
    "    end=datetime.datetime(2016, 1, 30),\n",
    "    seed=seed,\n",
    ")\n",
    "data.run()\n",
    "\n",
    "mu = data.get_period_return_mean_vector()\n",
    "sigma = data.get_period_return_covariance_matrix()\n",
    "\n",
    "# Plot covariance matrix\n",
    "plt.figure(figsize=(8, 6))\n",
    "plt.imshow(sigma, interpolation=\"nearest\", cmap='viridis')\n",
    "plt.colorbar(label='Covariance')\n",
    "plt.title('Asset Covariance Matrix')\n",
    "plt.tight_layout()\n",
    "plt.show()"
   ]
  },
  {
   "cell_type": "markdown",
   "metadata": {},
   "source": [
    "## Parameters \\& QUBO simulation"
   ]
  },
  {
   "cell_type": "markdown",
   "metadata": {},
   "source": [
    "In this section, we will implement the QUBO simulation step by step using a fixed set of parameters. While these parameters can typically be determined through a grid search, for the sake of simplicity and clarity in this example, we will set them to fixed values at the beginning. These parameter choices are made in accordance with the remarks from the paper, specifically regarding the risk rejection settings for the parameters $ \\lambda $.\n",
    "\n",
    "By fixing the parameters initially, we can focus on understanding the structure and behavior of the QUBO model. However, in a more generalized approach, these parameters (such as the penalty weights  $ \\lambda_0 $ ,  $\\lambda_1 $, and $\\lambda_2$ would be fine-tuned using optimization techniques like grid search or cross-validation to achieve the best performance for a given problem.\n",
    "\n",
    "The goal of this setup is to showcase how the model works with predefined risk settings, which can later be expanded to more dynamic configurations once the underlying concepts are better understood."
   ]
  },
  {
   "cell_type": "code",
   "execution_count": 17,
   "metadata": {},
   "outputs": [],
   "source": [
    "# Parameters for the QUBO formulation\n",
    "n = num_assets // 2  # Budget constraint: select n assets\n",
    "R_star = 0.2  # Minimum expected return threshold\n",
    "lambda_0 = 1.0  # Weight for risk minimization term\n",
    "lambda_1 = 2.0  # Weight for budget constraint penalty\n",
    "lambda_2 = 2.0  # Weight for return constraint penalty"
   ]
  },
  {
   "cell_type": "markdown",
   "metadata": {},
   "source": [
    "In this part of the code, we are creating a custom QUBO (Quadratic Unconstrained Binary Optimization) formulation for the portfolio optimization problem.\n",
    "\n",
    "1. **Create Quadratic Program:**\n",
    "   - `qubo = QuadraticProgram()`: We initialize a new `QuadraticProgram` object, which will hold the binary variables, constraints, and the objective function for the QUBO problem.\n",
    "\n",
    "2. **Binary Variables for Asset Selection:**\n",
    "   - `for i in range(num_assets)`: We loop over the number of assets (`num_assets`) to create a binary variable for each asset. These binary variables (denoted as `x_i`) represent whether each asset is selected or not in the portfolio.\n",
    "\n",
    "3. **Slack Variables for Return Constraint:**\n",
    "   - `K = 3`: We define the number of binary variables (`K`) required for the slack variable expansion to handle the return constraint.\n",
    "   - `for k in range(K)`: We loop to create `K` binary slack variables (denoted as `y_k`) which will help in enforcing the return constraint through binary expansion.\n",
    "\n",
    "4. **Initialize the Objective Function:**\n",
    "   - `qubo.minimize()`: We initialize the objective function, which will be a minimization problem in the QUBO form. The specifics of the objective will be defined later with respect to the portfolio's risk and return trade-offs.\n",
    "\n",
    "This setup establishes the basic structure for the QUBO problem, with binary variables for asset selection and slack variables to handle constraints. The next steps would involve defining the objective function and constraints in terms of these variables."
   ]
  },
  {
   "cell_type": "code",
   "execution_count": 18,
   "metadata": {},
   "outputs": [],
   "source": [
    "# Create custom QUBO formulation\n",
    "qubo = QuadraticProgram()\n",
    "\n",
    "# Add binary variables for asset selection\n",
    "for i in range(num_assets):\n",
    "    qubo.binary_var(name=f'x{i}')\n",
    "\n",
    "# Add slack variables for the return constraint using binary expansion\n",
    "K = 3  # Number of binary variables for slack\n",
    "for k in range(K):\n",
    "    qubo.binary_var(name=f'y{k}')\n",
    "\n",
    "# Initialize objective function\n",
    "qubo.minimize()"
   ]
  },
  {
   "cell_type": "markdown",
   "metadata": {},
   "source": [
    "We define the first term of the objective function, which focuses on **risk minimization** using the quadratic form $\\mathbf{x}^T \\Sigma \\mathbf{x} $. This term represents the portfolio's risk, with $ \\Sigma $ being the covariance matrix of asset returns.\n",
    "\n",
    "1. **Loop Over Asset Pairs:**\n",
    "   - `for i in range(num_assets):` and `for j in range(num_assets):`: We loop over all pairs of assets (i, j) in the portfolio. These loops will be used to populate the quadratic terms for the risk minimization.\n",
    "\n",
    "2. **Assign Quadratic Terms to the QUBO Objective:**\n",
    "   - `qubo.objective.quadratic[(f'x{i}', f'x{j}')] = lambda_0 * sigma[i, j]`: For each pair of assets $ x_i $ and $ x_j $, we assign the corresponding quadratic coefficient in the QUBO objective function. This coefficient is determined by multiplying the covariance between assets $ \\sigma[i, j] $ by the parameter $\\lambda_0 $, which controls the weight of the risk term in the objective function.\n",
    "   \n",
    "   The term $ \\lambda_0 $ scales the risk contribution to the objective, balancing the trade-off between risk and return.\n",
    "\n",
    "This step establishes the risk minimization part of the QUBO formulation, where the goal is to minimize the variance (risk) of the portfolio's asset selection."
   ]
  },
  {
   "cell_type": "code",
   "execution_count": 19,
   "metadata": {},
   "outputs": [],
   "source": [
    "# First term: risk minimization (x^T * Sigma * x)\n",
    "for i in range(num_assets):\n",
    "    for j in range(num_assets):\n",
    "        qubo.objective.quadratic[(f'x{i}', f'x{j}')] = lambda_0 * sigma[i, j]"
   ]
  },
  {
   "cell_type": "markdown",
   "metadata": {},
   "source": [
    "We define the second term of the objective function, which handles the **budget constraint**. This term enforces the condition that the sum of selected assets $ \\sum x_i $ should be equal to a target value $ n $.\n",
    "\n",
    "1. **Expand the Budget Constraint:**\n",
    "   - The original budget constraint $(\\sum x_i - n)^2 $ is expanded as:\n",
    "   $\n",
    "   (\\sum x_i - n)^2 = (\\sum x_i)^2 - 2n \\sum x_i + n^2\n",
    "   $\n",
    "   - The constant $ n^2 $is omitted in the formulation, as it does not affect the optimization (it is independent of the decision variables).\n",
    "\n",
    "2. **Linear Term:**\n",
    "   - `qubo.objective.linear[f'x{i}'] += -2 * lambda_1 * n`: For each asset $ x_i $, we add the linear term $ -2n \\cdot x_i $, scaled by $\\lambda_1 $. This term comes from the expansion of $ -2n \\sum x_i $, and it contributes to penalizing the deviation from the target budget.\n",
    "\n",
    "3. **Quadratic Term:**\n",
    "   - `for j in range(num_assets): qubo.objective.quadratic[(f'x{i}', f'x{j}')] += lambda_1`: The quadratic term $ x_i \\cdot x_j $ comes from expanding $ (\\sum x_i)^2 $. For each pair of assets $ (x_i, x_j) $, we add the corresponding quadratic term to the objective, scaled by $ \\lambda_1 $.\n",
    "\n",
    "This step establishes the penalty for violating the budget constraint. By minimizing this term, we encourage the total asset selection to meet the desired budget $ n $."
   ]
  },
  {
   "cell_type": "code",
   "execution_count": 20,
   "metadata": {},
   "outputs": [],
   "source": [
    "# Second term: budget constraint penalty (sum(x_i) - n)^2\n",
    "# Expand (sum(x_i) - n)^2 = (sum(x_i))^2 - 2n*sum(x_i) + n^2\n",
    "# The constant n^2 can be omitted as it doesn't affect optimization\n",
    "for i in range(num_assets):\n",
    "    # Linear term -2n*x_i from expanding the square\n",
    "    qubo.objective.linear[f'x{i}'] += -2 * lambda_1 * n\n",
    "    for j in range(num_assets):\n",
    "        # Quadratic term x_i*x_j from (sum(x_i))^2\n",
    "        qubo.objective.quadratic[(f'x{i}', f'x{j}')] += lambda_1"
   ]
  },
  {
   "cell_type": "markdown",
   "metadata": {},
   "source": [
    "We define the third term of the objective function, which handles the **return constraint**. The goal is to ensure that the expected return $\\mu^T \\mathbf{x} $ meets or exceeds a target return $ R^* $, while also considering slack variables $ y_k $.\n",
    "\n",
    "1. **First Part: $(\\mu^T \\mathbf{x})^2 $**  \n",
    "   The first part of the return constraint involves the quadratic term $ (\\mu^T \\mathbf{x})^2 $, which is the square of the expected return.\n",
    "\n",
    "   - We loop over all pairs of assets $ (i, j) $ and add the quadratic term to the objective:\n",
    "     $\n",
    "     (\\mu^T \\mathbf{x})^2 = \\sum_{i,j} \\mu[i] \\cdot \\mu[j] \\cdot x_i \\cdot x_j\n",
    "     $\n",
    "   - `qubo.objective.quadratic[(f'x{i}', f'x{j}')] += lambda_2 * mu[i] * mu[j]`: For each pair of assets $ x_i $ and $ x_j $, we add the quadratic term to the objective, scaled by $ \\lambda_2 $and the corresponding expected returns $ \\mu[i] $ and $\\mu[j] $.\n",
    "\n",
    "2. **Cross Terms: $ -2 \\cdot (\\mu^T \\mathbf{x}) \\cdot (R^* + \\sum 2^k \\cdot y_k) $**  \n",
    "   The cross terms involve the interaction between the expected return $ \\mu^T \\mathbf{x} $ and the target return $R^* $ and slack variables $ y_k $.\n",
    "\n",
    "   - **Term with $ R^* $:**\n",
    "     - `qubo.objective.linear[f'x{i}'] += -2 * lambda_2 * mu[i] * R_star`: For each asset $ x_i $, we add the linear term $ -2 \\cdot \\mu[i] \\cdot R^* $ to the objective. This term penalizes deviations from the target return.\n",
    "   \n",
    "   - **Terms with Slack Variables:**\n",
    "     - `for k in range(K): qubo.objective.quadratic[(f'x{i}', f'y{k}')] = -2 * lambda_2 * mu[i] * (2**k)`: We also include cross terms between the asset selection variables $ x_i $ and the slack variables $ y_k $, scaled by $ 2^k $. These terms represent the contribution of slack variables to the return constraint.\n",
    "\n",
    "This step establishes the penalty for violating the return constraint, encouraging the portfolio to meet or exceed the target return $ R^* $ while accounting for the slack variables used to relax the constraint."
   ]
  },
  {
   "cell_type": "code",
   "execution_count": 21,
   "metadata": {},
   "outputs": [],
   "source": [
    "# Third term: return constraint penalty (mu^T * x - R* - sum(2^k * y_k))^2\n",
    "# First part: (mu^T * x)^2\n",
    "for i in range(num_assets):\n",
    "    for j in range(num_assets):\n",
    "        qubo.objective.quadratic[(f'x{i}', f'x{j}')] += lambda_2 * mu[i] * mu[j]\n",
    "\n",
    "# Cross terms: -2 * (mu^T * x) * (R* + sum(2^k * y_k))\n",
    "for i in range(num_assets):\n",
    "    # Term with R*\n",
    "    qubo.objective.linear[f'x{i}'] += -2 * lambda_2 * mu[i] * R_star\n",
    "    # Terms with slack variables\n",
    "    for k in range(K):\n",
    "        qubo.objective.quadratic[(f'x{i}', f'y{k}')] = -2 * lambda_2 * mu[i] * (2**k)"
   ]
  },
  {
   "cell_type": "markdown",
   "metadata": {},
   "source": [
    "We define the last part of the return constraint penalty, which involves the term $ (R^* + \\sum 2^k \\cdot y_k)^2 $. This term captures the contribution of slack variables and the target return to the overall constraint penalty.\n",
    "\n",
    "1. **Term with $R^{*2}$:**\n",
    "   - The constant $ R^{*2}$ is omitted, as it does not affect the optimization and does not depend on the decision variables. Hence, it is excluded from the objective function.\n",
    "\n",
    "2. **Cross Terms with $ R^* $**\n",
    "   - `for k in range(K): qubo.objective.linear[f'y{k}'] += 2 * lambda_2 * R_star * (2**k)`: For each slack variable $ y_k $, we add a linear term $ 2 \\cdot R^* \\cdot 2^k \\cdot y_k $ to the objective. This term ensures that the slack variables contribute correctly to satisfying the return constraint.\n",
    "\n",
    "3. **Quadratic Terms for Slack Variables:**\n",
    "   - `for k in range(K): for l in range(K): qubo.objective.quadratic[(f'y{k}', f'y{l}')] = lambda_2 * (2**k) * (2**l)`: We also add quadratic terms for pairs of slack variables $ y_k $ and $ y_l $. These terms are weighted by $ \\lambda_2 $ and $2^k \\cdot 2^l $, representing the interaction between different slack variables in the return constraint.\n",
    "\n",
    "This step ensures that the slack variables are correctly integrated into the objective function, penalizing deviations from the target return while considering the contributions of each slack variable to the overall penalty."
   ]
  },
  {
   "cell_type": "code",
   "execution_count": 22,
   "metadata": {},
   "outputs": [],
   "source": [
    "# Last part: (R* + sum(2^k * y_k))^2\n",
    "# Term with R*^2 can be omitted as constant\n",
    "# Cross terms with R*\n",
    "for k in range(K):\n",
    "    qubo.objective.linear[f'y{k}'] += 2 * lambda_2 * R_star * (2**k)\n",
    "\n",
    "# Quadratic terms for slack variables\n",
    "for k in range(K):\n",
    "    for l in range(K):\n",
    "        qubo.objective.quadratic[(f'y{k}', f'y{l}')] = lambda_2 * (2**k) * (2**l)"
   ]
  },
  {
   "cell_type": "markdown",
   "metadata": {},
   "source": [
    "## Main loop and results formating"
   ]
  },
  {
   "cell_type": "markdown",
   "metadata": {},
   "source": [
    "The `print_result` function is designed to process and display the results of a QUBO optimization for portfolio selection. Here’s a quick breakdown of how it works:\n",
    "\n",
    "1. **Extract Binary Variables:**\n",
    "   - The function extracts the binary variables representing asset selection (`x_i`) and slack variables (`y_k`) from the optimization result. These variables are stored as arrays (`selection` and `slack_vars`) and represent whether an asset is selected in the portfolio and the contribution of slack variables to the return constraint.\n",
    "\n",
    "2. **Objective Value:**\n",
    "   - The objective value (`value`) is retrieved, which reflects the overall optimization result (minimizing risk and penalties from constraints).\n",
    "\n",
    "3. **Portfolio Metrics:**\n",
    "   - **Selected Assets:** The assets selected in the portfolio (those with `x_i = 1`) are listed.\n",
    "   - **Number of Assets:** The number of assets selected is calculated, and the budget constraint is checked against the target number (`n`).\n",
    "   - **Portfolio Return and Risk:** The expected return and risk (variance) of the portfolio are calculated using the selected assets and the covariance matrix (`sigma`).\n",
    "   - **Return Constraint:** The return constraint is evaluated, comparing the expected return with the target return (`R_star`) plus any slack contributions.\n",
    "\n",
    "4. **Top 5 Solutions:**\n",
    "   - The function also extracts the eigenstate from the optimization result and calculates the probability distribution of the different solutions.\n",
    "   - The top 5 solutions (sorted by probability) are printed, showing the asset selection, associated risk, return, and the probability of each solution.\n",
    "\n",
    "5. **Error Handling:**\n",
    "   - If there's an issue with extracting the probability distribution, the function catches the exception and prints an error message.\n",
    "\n",
    "This function gives a detailed overview of the optimal portfolio selection, including key metrics like expected return, risk, and constraint violations, as well as the most probable solutions based on the optimization results."
   ]
  },
  {
   "cell_type": "code",
   "execution_count": 24,
   "metadata": {},
   "outputs": [],
   "source": [
    "def print_result(result):\n",
    "    # Extract binary variables related to assets (x_i)\n",
    "    var_dict = result.variables_dict\n",
    "    selection = np.array([var_dict.get(f'x{i}', 0) for i in range(num_assets)], dtype=int)\n",
    "    slack_vars = np.array([var_dict.get(f'y{k}', 0) for k in range(K)], dtype=int)\n",
    "    \n",
    "    # Calculate objective value\n",
    "    value = result.fval\n",
    "    \n",
    "    print(\"Optimal: selection {}, value {:.4f}\".format(selection, value))\n",
    "    \n",
    "    # Calculate portfolio metrics\n",
    "    portfolio_return = mu.T @ selection\n",
    "    portfolio_risk = selection.T @ sigma @ selection\n",
    "    num_selected = np.sum(selection)\n",
    "    slack_value = sum(2**k * slack_vars[k] for k in range(K))\n",
    "    \n",
    "    print(\"\\n----------------- Portfolio Metrics ---------------------\")\n",
    "    print(f\"Selected assets: {[i for i, val in enumerate(selection) if val == 1]}\")\n",
    "    print(f\"Number of assets selected: {num_selected} (target: {n})\")\n",
    "    print(f\"Portfolio expected return: {portfolio_return:.4f} (minimum: {R_star:.4f})\")\n",
    "    print(f\"Portfolio risk (variance): {portfolio_risk:.4f}\")\n",
    "    print(f\"Budget constraint violation: {abs(num_selected - n)}\")\n",
    "    print(f\"Return constraint: μTx = {portfolio_return:.4f}, R* + slack = {R_star + slack_value:.4f}\")\n",
    "    \n",
    "    # Extract eigenstate and probabilities\n",
    "    try:\n",
    "        eigenstate = result.min_eigen_solver_result.eigenstate\n",
    "        if isinstance(eigenstate, QuasiDistribution):\n",
    "            probabilities = eigenstate.binary_probabilities()\n",
    "        else:\n",
    "            probabilities = {k: np.abs(v) ** 2 for k, v in eigenstate.to_dict().items()}\n",
    "        \n",
    "        print(\"\\n----------------- Top 5 solutions ---------------------\")\n",
    "        print(\"selection\\trisk\\t\\treturn\\t\\tprob\")\n",
    "        print(\"---------------------------------------------------\")\n",
    "        \n",
    "        # Sort and display top probabilities\n",
    "        sorted_probs = sorted(probabilities.items(), key=lambda x: x[1], reverse=True)\n",
    "        \n",
    "        count = 0\n",
    "        for bit_string, prob in sorted_probs:\n",
    "            if count >= 5:  # Limit to top 5 results\n",
    "                break\n",
    "                \n",
    "            # Parse bit string to get variable values\n",
    "            # Format is typically '0101' for x0=0, x1=1, x2=0, x3=1 (may need adjustment based on actual output)\n",
    "            # Need to map the bits to our variables correctly\n",
    "            \n",
    "            # Extract asset selection from bit string\n",
    "            # This assumes bit string format needs processing - adjust based on actual output\n",
    "            bits = list(bit_string.zfill(num_assets + K))\n",
    "            x_vals = [int(bits[-(i+K+1)]) for i in range(num_assets)]\n",
    "            x_array = np.array(x_vals)\n",
    "            \n",
    "            # Calculate portfolio metrics\n",
    "            sol_risk = x_array.T @ sigma @ x_array\n",
    "            sol_return = mu.T @ x_array\n",
    "            \n",
    "            print(f\"{x_array}\\t{sol_risk:.4f}\\t\\t{sol_return:.4f}\\t\\t{prob:.4f}\")\n",
    "            count += 1\n",
    "    except Exception as e:\n",
    "        print(f\"Could not extract probability distribution: {e}\")\n"
   ]
  },
  {
   "cell_type": "markdown",
   "metadata": {},
   "source": [
    "## Results"
   ]
  },
  {
   "cell_type": "markdown",
   "metadata": {},
   "source": [
    "### Generic Qubo Problem\n"
   ]
  },
  {
   "cell_type": "markdown",
   "metadata": {},
   "source": [
    "The following part of the code is responsible for printing the QUBO formulation in a human-readable format:\n",
    "\n",
    "1. **QUBO Problem Printout:**\n",
    "   - `print(\"QUBO Problem:\")`: This line simply prints a header to indicate that the following output will be the QUBO problem's formulation.\n",
    "\n",
    "2. **Export QUBO as LP String:**\n",
    "   - `print(qubo.export_as_lp_string())`: This line exports the QUBO formulation as an LP (Linear Programming) string. The `export_as_lp_string` method converts the QUBO model into a string representation, which is useful for inspecting the model's objective function, variables, and constraints in a readable format.\n",
    "\n",
    "This allows you to view the full structure of the QUBO problem, including all the binary variables, linear terms, and quadratic terms that have been defined for the portfolio optimization problem. It's a great way to verify that the formulation is correct before solving it using a quantum solver or any classical method."
   ]
  },
  {
   "cell_type": "code",
   "execution_count": 25,
   "metadata": {},
   "outputs": [
    {
     "name": "stdout",
     "output_type": "stream",
     "text": [
      "QUBO Problem:\n",
      "\\ This file has been generated by DOcplex\n",
      "\\ ENCODING=ISO-8859-1\n",
      "\\Problem name: CPLEX\n",
      "\n",
      "Minimize\n",
      " obj: - 8.012227509321 x0 - 7.999375238284 x1 - 8.000414336437 x2\n",
      "      - 8.000696004670 x3 + 0.800000000000 y0 + 1.600000000000 y1\n",
      "      + 3.200000000000 y2 + [ 4.006017227085 x0^2 + 8.000051313437 x0*x1\n",
      "      + 8.000320529845 x0*x2 + 7.999906657618 x0*x3 - 0.122275093214 x0*y0\n",
      "      - 0.244550186428 x0*y1 - 0.489100372855 x0*y2 + 4.000519412971 x1^2\n",
      "      + 8.000102849750 x1*x2 + 8.000083527778 x1*x3 + 0.006247617161 x1*y0\n",
      "      + 0.012495234322 x1*y1 + 0.024990468645 x1*y2 + 4.001584082329 x2^2\n",
      "      + 7.999755829988 x2*x3 - 0.004143364374 x2*y0 - 0.008286728747 x2*y1\n",
      "      - 0.016573457494 x2*y2 + 4.000398812811 x3^2 - 0.006960046698 x3*y0\n",
      "      - 0.013920093395 x3*y1 - 0.027840186791 x3*y2 + 4 y0^2 + 8 y0*y1\n",
      "      + 16 y0*y2 + 16 y1^2 + 32 y1*y2 + 64 y2^2 ]/2\n",
      "Subject To\n",
      "\n",
      "Bounds\n",
      " 0 <= x0 <= 1\n",
      " 0 <= x1 <= 1\n",
      " 0 <= x2 <= 1\n",
      " 0 <= x3 <= 1\n",
      " 0 <= y0 <= 1\n",
      " 0 <= y1 <= 1\n",
      " 0 <= y2 <= 1\n",
      "\n",
      "Binaries\n",
      " x0 x1 x2 x3 y0 y1 y2\n",
      "End\n",
      "\n"
     ]
    }
   ],
   "source": [
    "# Print the QUBO formulation\n",
    "print(\"QUBO Problem:\")\n",
    "print(qubo.export_as_lp_string())"
   ]
  },
  {
   "cell_type": "markdown",
   "metadata": {},
   "source": [
    "The output shows the full QUBO formulation that has been generated for the portfolio optimization problem. Here's a breakdown of the key components of this formulation:\n",
    "\n",
    "1. **Objective Function:**\n",
    "   - The objective function is structured as a combination of linear and quadratic terms. The goal is to **minimize** the expression:\n",
    "     $$\n",
    "     \\text{obj:} - 8.012227509321 x_0 - 7.999375238284 x_1 - 8.000414336437 x_2 - 8.000696004670 x_3 + 0.800000000000 y_0 + 1.600000000000 y_1 + 3.200000000000 y_2\n",
    "     $$\n",
    "     - The linear terms involve the binary variables $ x_0, x_1, x_2, x_3 $ representing asset selection and $ y_0, y_1, y_2 $ representing slack variables.\n",
    "     - The quadratic terms, such as $ 4.006017227085 x_0^2 + 8.000051313437 x_0 x_1 + \\dots $, represent interactions between variables (both asset selection and slack) that are key to formulating the risk and constraint penalties.\n",
    "\n",
    "2. **Quadratic Terms:**\n",
    "   - The quadratic terms define the interactions between the binary variables. These terms are important for modeling the **covariance** (risk) and **budget** (constraint) penalty in the optimization:\n",
    "     - Examples include $ x_0^2 $ (the risk from asset selection), $ x_0 x_1 $ (the interaction between assets 0 and 1), and interactions between slack variables like $ y_0^2 $, $ y_0 y_1 $, and $ y_1 y_2 $.\n",
    "   \n",
    "3. **Subject to (Constraints):**\n",
    "   - There are no explicit constraints mentioned in the output, but the model is likely constrained by the bounds of the binary variables (i.e., asset selection and slack variables can only be 0 or 1).\n",
    "\n",
    "4. **Bounds and Binaries:**\n",
    "   - The variables $ x_0, x_1, x_2, x_3 $ and $ y_0, y_1, y_2 $ are all constrained to be binary (0 or 1). This ensures that each asset can either be selected or not, and each slack variable can either contribute or not contribute to relaxing the return constraint.\n",
    "\n",
    "5. **General Overview:**\n",
    "   - The formulation combines both the **risk minimization** (from quadratic terms in the objective function) and the **budget and return constraints** (represented by slack variables and cross terms). The optimization will find the values of the binary variables that minimize the objective function, balancing risk and return while meeting the constraints.\n",
    "\n",
    "This formulation is well-suited for solving using quantum optimization techniques (like quantum annealing) or classical solvers like CPLEX. The resulting model is designed to find the optimal portfolio with the best trade-off between risk and return while adhering to the budget and return constraints."
   ]
  },
  {
   "cell_type": "markdown",
   "metadata": {},
   "source": [
    "### Exact Eigensolver"
   ]
  },
  {
   "cell_type": "markdown",
   "metadata": {},
   "source": [
    "In this section, the QUBO problem is solved using an **exact eigensolver**. The solver used is `NumPyMinimumEigensolver`, which computes the minimum eigenvalue of the QUBO matrix.\n",
    "\n",
    "1. **Exact Solver Initialization:**\n",
    "   - `exact_mes = NumPyMinimumEigensolver()` initializes the exact solver.\n",
    "   - `exact_eigensolver = MinimumEigenOptimizer(exact_mes)` sets up the optimizer to solve the QUBO.\n",
    "\n",
    "2. **Solving the QUBO:**\n",
    "   - `result = exact_eigensolver.solve(qubo)` solves the QUBO problem, returning the optimal result.\n",
    "\n",
    "3. **Result Display:**\n",
    "   - `print_result(result)` outputs the detailed solution, showing the optimal asset selection and portfolio metrics.\n",
    "\n",
    "This method provides an exact solution to the problem using classical eigenvalue solvers."
   ]
  },
  {
   "cell_type": "code",
   "execution_count": 26,
   "metadata": {},
   "outputs": [
    {
     "name": "stdout",
     "output_type": "stream",
     "text": [
      "\n",
      "===== Exact Solver =====\n",
      "Optimal: selection [1 0 0 1], value -8.0098\n",
      "\n",
      "----------------- Portfolio Metrics ---------------------\n",
      "Selected assets: [0, 3]\n",
      "Number of assets selected: 2 (target: 2)\n",
      "Portfolio expected return: 0.0162 (minimum: 0.2000)\n",
      "Portfolio risk (variance): 0.0025\n",
      "Budget constraint violation: 0\n",
      "Return constraint: μTx = 0.0162, R* + slack = 0.2000\n",
      "\n",
      "----------------- Top 5 solutions ---------------------\n",
      "selection\trisk\t\treturn\t\tprob\n",
      "---------------------------------------------------\n",
      "[1 0 0 0]\t0.0025\t\t0.0153\t\t1.0000\n"
     ]
    }
   ],
   "source": [
    "# Solve using exact eigensolver\n",
    "print(\"\\n===== Exact Solver =====\")\n",
    "exact_mes = NumPyMinimumEigensolver()\n",
    "exact_eigensolver = MinimumEigenOptimizer(exact_mes)\n",
    "result = exact_eigensolver.solve(qubo)\n",
    "print_result(result)\n",
    "\n"
   ]
  },
  {
   "cell_type": "markdown",
   "metadata": {},
   "source": [
    "**Exact Solver Results**\n",
    "\n",
    "**Optimal Solution:**\n",
    "- **Selected Assets:** The optimal portfolio selection includes assets 0 and 3, indicated by `selection [1 0 0 1]`. \n",
    "- **Objective Value:** The total value of the objective function is -8.0098, indicating the minimized risk and penalty terms.\n",
    "\n",
    "**Portfolio Metrics:**\n",
    "- **Selected Assets:** Assets 0 and 3 are selected for the portfolio.\n",
    "- **Number of Assets Selected:** The portfolio contains 2 assets, which matches the target of 2 assets.\n",
    "- **Expected Portfolio Return:** The expected return of the portfolio is 0.0162, which is lower than the required minimum return \\( R^* = 0.2000 \\), suggesting the portfolio does not meet the return constraint fully.\n",
    "- **Portfolio Risk (Variance):** The risk (variance) of the portfolio is 0.0025, representing a relatively low risk.\n",
    "- **Budget Constraint Violation:** There is no violation of the budget constraint (0 assets over the target).\n",
    "- **Return Constraint:** The return constraint is not satisfied, as \\( \\mu^T x = 0.0162 \\) is less than \\( R^* + \\text{slack} = 0.2000 \\), meaning the portfolio’s return is far below the target.\n",
    "\n",
    "**Top 5 Solutions:**\n",
    "- **Top Solution:** The top solution returned by the solver is `[1 0 0 0]`, indicating asset 0 is selected. This solution has a very high probability (1.0000) and a return of 0.0153, which is still below the target return of 0.2000.\n",
    "- **Risk and Return:** The risk of this solution is 0.0025, and the return is 0.0153, which are similar to the optimal solution's metrics.\n",
    "\n",
    "**Summary:**\n",
    "- The solution provides an optimal asset selection but fails to meet the return constraint, with the return being much lower than the required threshold.\n",
    "- The risk is low, but the portfolio's performance does not fully satisfy the return requirement, indicating that further tuning or adjustments (e.g., increasing the return target or modifying the objective) might be needed."
   ]
  },
  {
   "cell_type": "markdown",
   "metadata": {},
   "source": [
    "### Sampling VQE Results"
   ]
  },
  {
   "cell_type": "markdown",
   "metadata": {},
   "source": [
    "The code solves the QUBO problem using a **Sampling VQE** (Variational Quantum Eigensolver), leveraging quantum techniques for optimization. Here’s a breakdown of the process and the output:\n",
    "\n",
    "1. **Sampling VQE Initialization:**\n",
    "   - `algorithm_globals.random_seed = 1234` sets the random seed to ensure reproducibility of the quantum algorithm.\n",
    "   - `cobyla = COBYLA()` initializes the COBYLA optimizer, a gradient-free method that will guide the quantum solver’s search for the optimal solution.\n",
    "   - `cobyla.set_options(maxiter=500)` specifies the maximum number of iterations (500) for the optimizer.\n",
    "   - `ry = TwoLocal(num_assets + K, \"ry\", \"cz\", reps=3, entanglement=\"full\")` defines the quantum circuit for the **ansatz**. This ansatz uses `ry` gates for rotations and `cz` gates for entanglement, applied across all qubits in the system. The circuit is repeated 3 times with full entanglement.\n",
    "   \n",
    "2. **Solving the QUBO Problem:**\n",
    "   - `svqe_mes = SamplingVQE(sampler=Sampler(), ansatz=ry, optimizer=cobyla)` sets up the **SamplingVQE** algorithm, which uses a quantum sampler with the defined ansatz and optimizer to solve the QUBO problem.\n",
    "   - `result = svqe.solve(qubo)` runs the algorithm to find the optimal asset selection and slack variables that minimize the QUBO objective function.\n",
    "\n",
    "3. **Displaying the Result:**\n",
    "   - `print_result(result)` prints the results, including:\n",
    "     - **Optimal selection of assets**: The assets selected for the portfolio based on the quantum solution.\n",
    "     - **Portfolio metrics**: Expected return, risk (variance), and constraint violations for the optimal portfolio.\n",
    "     - **Top solutions**: The top quantum solutions along with their corresponding probabilities, showcasing the likelihood of different portfolio configurations.\n",
    "\n",
    "In summary, this method uses quantum techniques to find a solution to the QUBO problem. The Sampling VQE offers a variational approach that combines classical optimization with quantum sampling to explore the solution space, potentially uncovering more optimal or diverse portfolio configurations."
   ]
  },
  {
   "cell_type": "code",
   "execution_count": 27,
   "metadata": {},
   "outputs": [
    {
     "name": "stdout",
     "output_type": "stream",
     "text": [
      "\n",
      "===== Sampling VQE Solver =====\n",
      "Optimal: selection [1 0 0 1], value -8.0098\n",
      "\n",
      "----------------- Portfolio Metrics ---------------------\n",
      "Selected assets: [0, 3]\n",
      "Number of assets selected: 2 (target: 2)\n",
      "Portfolio expected return: 0.0162 (minimum: 0.2000)\n",
      "Portfolio risk (variance): 0.0025\n",
      "Budget constraint violation: 0\n",
      "Return constraint: μTx = 0.0162, R* + slack = 0.2000\n",
      "\n",
      "----------------- Top 5 solutions ---------------------\n",
      "selection\trisk\t\treturn\t\tprob\n",
      "---------------------------------------------------\n",
      "[1 0 0 0]\t0.0025\t\t0.0153\t\t0.2822\n",
      "[1 0 0 0]\t0.0025\t\t0.0153\t\t0.2051\n",
      "[0 0 0 0]\t0.0000\t\t0.0000\t\t0.1670\n",
      "[0 0 0 0]\t0.0000\t\t0.0000\t\t0.0645\n",
      "[1 0 0 0]\t0.0025\t\t0.0153\t\t0.0498\n"
     ]
    }
   ],
   "source": [
    "# Solve using Sampling VQE\n",
    "print(\"\\n===== Sampling VQE Solver =====\")\n",
    "from qiskit_algorithms.utils import algorithm_globals\n",
    "algorithm_globals.random_seed = 1234\n",
    "cobyla = COBYLA()\n",
    "cobyla.set_options(maxiter=500)\n",
    "ry = TwoLocal(num_assets + K, \"ry\", \"cz\", reps=3, entanglement=\"full\")\n",
    "svqe_mes = SamplingVQE(sampler=Sampler(), ansatz=ry, optimizer=cobyla)\n",
    "svqe = MinimumEigenOptimizer(svqe_mes)\n",
    "result = svqe.solve(qubo)\n",
    "print_result(result)\n"
   ]
  },
  {
   "cell_type": "markdown",
   "metadata": {},
   "source": [
    "\n",
    "\n",
    "**Optimal Solution:**\n",
    "   - **Selected Assets:** `[1 0 0 1]`, indicating that assets 0 and 3 are selected for the portfolio.\n",
    "   - **Objective Value:** `-8.0098`, representing the minimized value of the objective function.\n",
    "   \n",
    "**Portfolio Metrics:**\n",
    "   - **Selected Assets:** Assets 0 and 3 are chosen based on the optimization.\n",
    "   - **Number of Assets Selected:** 2 (the target number of assets, `n=2`, is met).\n",
    "   - **Portfolio Expected Return:** `0.0162`, which is below the minimum required return (`R* = 0.2000`).\n",
    "   - **Portfolio Risk (Variance):** `0.0025`, showing the risk associated with the selected assets.\n",
    "   - **Budget Constraint Violation:** `0`, meaning there is no violation of the asset selection budget.\n",
    "   - **Return Constraint:** The expected portfolio return (`μTx = 0.0162`) is below the required return (`R* + slack = 0.2000`), indicating a constraint violation, which is handled by slack variables.\n",
    "\n",
    "**Top 5 Solutions:**\n",
    "   - **Solution Breakdown:**\n",
    "     - Solutions are ranked by their probability, showcasing the likelihood of different asset selections.\n",
    "     - The most probable solution (selection `[1 0 0 0]`) has a return of `0.0153` and a risk of `0.0025`, with a probability of `28.22%`.\n",
    "     - Other solutions show a mix of asset selections, with varying risk, return, and probabilities, highlighting the diversity in the quantum search space.\n",
    "\n",
    "**Summary:**\n",
    "The Sampling VQE solver provides a set of possible portfolio configurations, with the optimal solution selecting assets 0 and 3. The solution meets the budget constraint but does not fully meet the return constraint. The top solutions offer alternative portfolio configurations, which can be useful for further analysis or decision-making. The probabilities of the top solutions indicate their likelihood, with the best solution being selected based on quantum sampling and optimization."
   ]
  },
  {
   "cell_type": "markdown",
   "metadata": {},
   "source": [
    "### QAOA Results"
   ]
  },
  {
   "cell_type": "markdown",
   "metadata": {},
   "source": [
    "In this section, the QUBO problem is solved using the **QAOA (Quantum Approximate Optimization Algorithm)**. The QAOA solver combines quantum mechanics with classical optimization techniques to find approximate solutions to combinatorial optimization problems.\n",
    "\n",
    "1. **QAOA Solver Initialization:**\n",
    "   - `algorithm_globals.random_seed = 1234` sets the random seed for the quantum algorithm to ensure reproducibility.\n",
    "   - `cobyla = COBYLA()` initializes the **COBYLA optimizer**, a gradient-free optimization method used to update parameters during the algorithm.\n",
    "   - `cobyla.set_options(maxiter=250)` sets the maximum number of iterations for the COBYLA optimizer to 250.\n",
    "   - `qaoa_mes = QAOA(sampler=Sampler(), optimizer=cobyla, reps=3)` configures the QAOA solver with 3 repetitions, which defines the number of layers in the quantum circuit.\n",
    "\n",
    "2. **Solving the QUBO:**\n",
    "   - `result = qaoa.solve(qubo)` solves the QUBO problem using the QAOA approach, providing an approximate optimal solution based on quantum computations.\n",
    "\n",
    "3. **Result Display:**\n",
    "   - `print_result(result)` prints the detailed results, including the optimal asset selection and associated portfolio metrics.\n",
    "\n",
    "This method provides an approximate solution to the QUBO problem, leveraging quantum and classical hybrid techniques. While it does not guarantee an exact solution, it offers a promising approach for solving large-scale optimization problems.\n"
   ]
  },
  {
   "cell_type": "code",
   "execution_count": null,
   "metadata": {},
   "outputs": [
    {
     "name": "stdout",
     "output_type": "stream",
     "text": [
      "\n",
      "===== QAOA Solver =====\n",
      "Optimal: selection [1 0 0 1], value -8.0098\n",
      "\n",
      "----------------- Portfolio Metrics ---------------------\n",
      "Selected assets: [0, 3]\n",
      "Number of assets selected: 2 (target: 2)\n",
      "Portfolio expected return: 0.0162 (minimum: 0.2000)\n",
      "Portfolio risk (variance): 0.0025\n",
      "Budget constraint violation: 0\n",
      "Return constraint: μTx = 0.0162, R* + slack = 0.2000\n",
      "\n",
      "----------------- Top 5 solutions ---------------------\n",
      "selection\trisk\t\treturn\t\tprob\n",
      "---------------------------------------------------\n",
      "[1 0 0 0]\t0.0025\t\t0.0153\t\t0.1377\n",
      "[0 0 0 0]\t0.0000\t\t0.0000\t\t0.0791\n",
      "[0 0 0 0]\t0.0000\t\t0.0000\t\t0.0723\n",
      "[1 0 1 0]\t0.0036\t\t0.0158\t\t0.0391\n",
      "[1 0 0 0]\t0.0025\t\t0.0153\t\t0.0352\n"
     ]
    }
   ],
   "source": [
    "# Solve using QAOA\n",
    "print(\"\\n===== QAOA Solver =====\")\n",
    "algorithm_globals.random_seed = 1234\n",
    "cobyla = COBYLA()\n",
    "cobyla.set_options(maxiter=250)\n",
    "qaoa_mes = QAOA(sampler=Sampler(), optimizer=cobyla, reps=3)\n",
    "qaoa = MinimumEigenOptimizer(qaoa_mes)\n",
    "result = qaoa.solve(qubo)\n",
    "print_result(result)"
   ]
  },
  {
   "cell_type": "markdown",
   "metadata": {},
   "source": [
    "1. **Optimal Solution:**\n",
    "   - **Selected assets**: `[0, 3]` - The optimal portfolio includes assets 0 and 3.\n",
    "   - **Objective function value**: `-8.0098` - This is the value of the objective function for the optimal solution.\n",
    "\n",
    "2. **Portfolio Metrics:**\n",
    "   - **Expected return**: `0.0162`, which is below the required minimum return (`R* = 0.2000`), indicating a shortfall in expected return.\n",
    "   - **Portfolio risk (variance)**: `0.0025` - This represents the risk associated with the portfolio, a relatively low value.\n",
    "   - **Budget constraint violation**: `0` - The number of assets selected is exactly equal to the target number (2), satisfying the budget constraint.\n",
    "   - **Return constraint**: The portfolio's expected return (`μTx = 0.0162`) is less than the required return (`R* + slack = 0.2000`), highlighting a violation of the return constraint.\n",
    "\n",
    "3. **Top 5 Solutions:**\n",
    "   - The top solutions show different asset selections with corresponding risk, return, and probability values:\n",
    "     - **[1 0 0 0]** with a risk of `0.0025`, return of `0.0153`, and probability of `0.1377`\n",
    "     - **[0 0 0 0]** with a risk of `0.0000`, return of `0.0000`, and probability of `0.0791`\n",
    "     - **[0 0 0 0]** with a risk of `0.0000`, return of `0.0000`, and probability of `0.0723`\n",
    "     - **[1 0 1 0]** with a risk of `0.0036`, return of `0.0158`, and probability of `0.0391`\n",
    "     - **[1 0 0 0]** with a risk of `0.0025`, return of `0.0153`, and probability of `0.0352`\n",
    "\n",
    "   These solutions show the diversity of possible portfolios and their probabilities, with some offering lower risk but at the cost of much lower returns. \n",
    "\n",
    "**Summary:**\n",
    "The QAOA solver provides a set of approximate solutions, some of which meet the budget constraint but fail to achieve the required return. The top solutions vary in terms of risk and return, with different probabilities indicating the likelihood of each solution being the optimal one."
   ]
  },
  {
   "cell_type": "markdown",
   "metadata": {},
   "source": [
    "## Conclusion"
   ]
  },
  {
   "cell_type": "markdown",
   "metadata": {},
   "source": [
    "In this analysis, the QUBO problem was solved using three different solvers: **Exact Eigensolver**, **Sampling VQE**, and **QAOA**. Each method provided unique insights and solutions to the optimization problem, with varying degrees of success and computational complexity.\n",
    "\n",
    "1. **Exact Eigensolver:**\n",
    "   - The **exact solver** provided the optimal solution deterministically, showing the best asset selection for minimizing the risk while considering the constraints. However, the solution showed a shortfall in the expected return relative to the required threshold, indicating that the method may not always meet the return constraint in practical scenarios.\n",
    "   - The results were precise, offering a clear understanding of how well the optimization objective and constraints are satisfied.\n",
    "\n",
    "2. **Sampling VQE:**\n",
    "   - The **Sampling VQE solver** provided approximate solutions, using quantum sampling techniques to explore different asset selections. While the top solutions showed reasonable performance in terms of risk and return, there was a noticeable variance in return levels across the solutions, with some portfolios failing to meet the return constraint.\n",
    "   - The probabilistic nature of VQE allows for multiple solutions, with varying likelihoods, making it useful for exploring diverse portfolio configurations. However, the return shortfall was more evident in this approach compared to the exact method.\n",
    "\n",
    "3. **QAOA:**\n",
    "   - The **QAOA solver** also yielded approximate solutions using quantum optimization techniques. Similar to VQE, QAOA provided solutions with a range of asset selections, where some met the budget constraint but still failed to achieve the required return.\n",
    "   - The results from QAOA indicated that while the method can find feasible solutions, it may struggle with achieving high expected returns, especially when the problem is highly constrained.\n",
    "\n",
    "**Overall Conclusion:**\n",
    "Each solver offers different trade-offs between solution accuracy, computational complexity, and ability to meet constraints. The **Exact Eigensolver** gives a deterministic and optimal solution, ideal for small to medium-scale problems but might not always satisfy practical constraints like return requirements. On the other hand, both **Sampling VQE** and **QAOA** provide approximate solutions that can handle larger problem sizes with more flexibility but may not always meet the strict return or risk constraints.\n",
    "\n",
    "Future work could focus on fine-tuning the parameters of these solvers or exploring hybrid quantum-classical methods to improve performance in constrained optimization problems like portfolio optimization.\n"
   ]
  }
 ],
 "metadata": {
  "kernelspec": {
   "display_name": "Python 3",
   "language": "python",
   "name": "python3"
  },
  "language_info": {
   "codemirror_mode": {
    "name": "ipython",
    "version": 3
   },
   "file_extension": ".py",
   "mimetype": "text/x-python",
   "name": "python",
   "nbconvert_exporter": "python",
   "pygments_lexer": "ipython3",
   "version": "3.11.9"
  }
 },
 "nbformat": 4,
 "nbformat_minor": 2
}
